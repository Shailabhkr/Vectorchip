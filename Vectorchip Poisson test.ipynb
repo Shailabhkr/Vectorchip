{
 "cells": [
  {
   "cell_type": "code",
   "execution_count": 4,
   "metadata": {},
   "outputs": [
    {
     "name": "stdout",
     "output_type": "stream",
     "text": [
      "m 60.0\n"
     ]
    },
    {
     "data": {
      "image/png": "[encoded data removed]",
      "text/plain": [
       "<Figure size 432x288 with 1 Axes>"
      ]
     },
     "metadata": {
      "needs_background": "light"
     },
     "output_type": "display_data"
    }
   ],
   "source": [
    "\n",
    "%matplotlib inline\n",
    "import numpy as np\n",
    "import math\n",
    "import matplotlib.pyplot as plt\n",
    "\n",
    "Nwells = 145\n",
    "Nmosq = 60\n",
    "n = 0.1 #probes per min \n",
    "t = 10 #mins\n",
    "\n",
    "m = Nmosq*n*t #total bites in time t\n",
    "print (\"m\",m)\n",
    "\n",
    "j = 30 #upper limit of bites per well to be checked in the algo\n",
    "\n",
    "P = np.zeros(j)\n",
    "k = np.zeros(j)\n",
    "\n",
    "#P[X = k] = NmosȠt!/{k!*(NmosȠt-k)!}  * (1/Nwells)^k * (1-1/Nwells)^Nmosƞt-k\n",
    "\n",
    "for i in range (0, j):\n",
    "    P1 = (math.factorial(m))/((math.factorial(i))*(math.factorial(m-i)))\n",
    "    P2 = (1/(Nwells))**i\n",
    "    P3 = ((1-(1/Nwells))**(m-i))\n",
    "    P[i] = P1*P2*P3\n",
    "    #print(P1,P2,P3)\n",
    "    k[i] = i\n",
    "    #print(k[i],P[i])\n",
    "     \n",
    "fig=plt.figure(figsize=(6,4))\n",
    "label = 'Wells = {}, Mosq. = {}'.format(Nwells, Nmosq)\n",
    "plt.rc('xtick', labelsize=12) \n",
    "plt.rc('ytick', labelsize=12)\n",
    "plt.xticks(np.arange(0, j, 2))\n",
    "#plt.minorticks_on()\n",
    "plt.plot(k,P,'o',markersize = 6,color='red')#, label=label)\n",
    "#plt.title('Probability of bites on a well', fontsize='16')\n",
    "plt.xlabel('k (Bites on a well)', fontsize='14')\n",
    "plt.ylabel('Probability (P)', fontsize='14')\n",
    "plt.show\n",
    "\n",
    "#print(k,P)\n",
    "\n",
    "#plt.legend()\n",
    "\n",
    "plt.savefig('currentplot.png', dpi=600, bbox_inches=\"tight\")\n"
   ]
  },
  {
   "cell_type": "code",
   "execution_count": null,
   "metadata": {},
   "outputs": [],
   "source": []
  },
  {
   "cell_type": "code",
   "execution_count": null,
   "metadata": {},
   "outputs": [],
   "source": []
  }
 ],
 "metadata": {
  "kernelspec": {
   "display_name": "Python 3",
   "language": "python",
   "name": "python3"
  },
  "language_info": {
   "codemirror_mode": {
    "name": "ipython",
    "version": 3
   },
   "file_extension": ".py",
   "mimetype": "text/x-python",
   "name": "python",
   "nbconvert_exporter": "python",
   "pygments_lexer": "ipython3",
   "version": "3.7.1"
  }
 },
 "nbformat": 4,
 "nbformat_minor": 2
}
